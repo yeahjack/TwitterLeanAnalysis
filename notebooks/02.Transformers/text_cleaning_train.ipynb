{
 "cells": [
  {
   "cell_type": "code",
   "execution_count": 1,
   "metadata": {},
   "outputs": [],
   "source": [
    "import pandas as pd"
   ]
  },
  {
   "cell_type": "code",
   "execution_count": 5,
   "metadata": {},
   "outputs": [],
   "source": [
    "# Pure Dataset\n",
    "df  =  pd.read_csv('../../data/dataset/dataset.csv', encoding = 'utf_8_sig', header =None)"
   ]
  },
  {
   "cell_type": "code",
   "execution_count": 2,
   "metadata": {},
   "outputs": [],
   "source": [
    "# Combined Dataset\n",
    "df  =  pd.read_csv('../../data/dataset/dataset_combined.csv', encoding = 'utf_8_sig', header =None)"
   ]
  },
  {
   "cell_type": "code",
   "execution_count": 3,
   "metadata": {},
   "outputs": [],
   "source": [
    "df.columns = ['text', 'label']"
   ]
  },
  {
   "cell_type": "code",
   "execution_count": 4,
   "metadata": {},
   "outputs": [
    {
     "name": "stderr",
     "output_type": "stream",
     "text": [
      "/tmp/ipykernel_2897295/868195269.py:1: FutureWarning: The default value of regex will change from True to False in a future version.\n",
      "  df['text'] = df['text'].str.replace('[^\\w\\s]', '')\n"
     ]
    }
   ],
   "source": [
    "df['text'] = df['text'].str.replace('[^\\w\\s]', '')"
   ]
  },
  {
   "cell_type": "code",
   "execution_count": 8,
   "metadata": {},
   "outputs": [],
   "source": [
    "# Pure Dataset\n",
    "df.to_csv('../../data/dataset/dataset.csv', index = False, encoding = 'utf_8_sig', header=0)"
   ]
  },
  {
   "cell_type": "code",
   "execution_count": null,
   "metadata": {},
   "outputs": [],
   "source": [
    "# Combined Dataset\n",
    "df.to_csv('../../data/dataset/dataset_combined.csv', index = False, encoding = 'utf_8_sig', header=0)"
   ]
  },
  {
   "cell_type": "code",
   "execution_count": null,
   "metadata": {},
   "outputs": [],
   "source": [
    "# Pure Dataset\n",
    "from sklearn.model_selection import train_test_split\n",
    "train, test = train_test_split(df, test_size=0.2, random_state=42)\n",
    "test, val = train_test_split(test, test_size=0.5, random_state=42)\n",
    "train.to_csv('../../data/dataset/train.csv', index=False, encoding='utf-8', header=0)\n",
    "test.to_csv('../../data/dataset/test.csv', index=False, encoding='utf-8', header=0)\n",
    "val.to_csv('../../data/dataset/val.csv', index=False, encoding='utf-8', header=0)"
   ]
  },
  {
   "cell_type": "code",
   "execution_count": 16,
   "metadata": {},
   "outputs": [],
   "source": [
    "# Combined Dataset\n",
    "from sklearn.model_selection import train_test_split\n",
    "train, test = train_test_split(df, test_size=0.2, random_state=42)\n",
    "test, val = train_test_split(test, test_size=0.5, random_state=42)\n",
    "train.to_csv('../../data/dataset/train_combined.csv', index=False, encoding='utf-8', header=0)\n",
    "test.to_csv('../../data/dataset/test_combined.csv', index=False, encoding='utf-8', header=0)\n",
    "val.to_csv('../../data/dataset/val_combined.csv', index=False, encoding='utf-8', header=0)"
   ]
  }
 ],
 "metadata": {
  "kernelspec": {
   "display_name": "Python 3",
   "language": "python",
   "name": "python3"
  },
  "language_info": {
   "codemirror_mode": {
    "name": "ipython",
    "version": 3
   },
   "file_extension": ".py",
   "mimetype": "text/x-python",
   "name": "python",
   "nbconvert_exporter": "python",
   "pygments_lexer": "ipython3",
   "version": "3.10.9"
  },
  "orig_nbformat": 4,
  "vscode": {
   "interpreter": {
    "hash": "53aeca02714710f53ed140b9666583ce1d97379b4d397b4d0ddb1db91889d322"
   }
  }
 },
 "nbformat": 4,
 "nbformat_minor": 2
}
