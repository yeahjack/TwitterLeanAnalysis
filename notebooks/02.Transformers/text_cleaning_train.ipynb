{
 "cells": [
  {
   "cell_type": "code",
   "execution_count": 1,
   "metadata": {},
   "outputs": [],
   "source": [
    "import pandas as pd"
   ]
  },
  {
   "cell_type": "code",
   "execution_count": 4,
   "metadata": {},
   "outputs": [],
   "source": [
    "# Pure Dataset\n",
    "df  =  pd.read_csv('/Users/yijie/Library/CloudStorage/OneDrive-HKUST(Guangzhou)/Research/GitHub/news-title-bias/data/dataset/dataset/dataset.csv')"
   ]
  },
  {
   "cell_type": "code",
   "execution_count": 6,
   "metadata": {},
   "outputs": [],
   "source": [
    "# Combined Dataset\n",
    "df  =  pd.read_csv('/home/data/xuyijie/news-title-bias/data/dataset/dataset_combined_multitask.csv', encoding = 'utf_8_sig', names=['text','kind','score'])"
   ]
  },
  {
   "cell_type": "code",
   "execution_count": 7,
   "metadata": {},
   "outputs": [
    {
     "data": {
      "text/html": [
       "<div>\n",
       "<style scoped>\n",
       "    .dataframe tbody tr th:only-of-type {\n",
       "        vertical-align: middle;\n",
       "    }\n",
       "\n",
       "    .dataframe tbody tr th {\n",
       "        vertical-align: top;\n",
       "    }\n",
       "\n",
       "    .dataframe thead th {\n",
       "        text-align: right;\n",
       "    }\n",
       "</style>\n",
       "<table border=\"1\" class=\"dataframe\">\n",
       "  <thead>\n",
       "    <tr style=\"text-align: right;\">\n",
       "      <th></th>\n",
       "      <th>text</th>\n",
       "      <th>kind</th>\n",
       "      <th>score</th>\n",
       "    </tr>\n",
       "  </thead>\n",
       "  <tbody>\n",
       "    <tr>\n",
       "      <th>0</th>\n",
       "      <td>Summary US announces new 185 bln military aid ...</td>\n",
       "      <td>1</td>\n",
       "      <td>-0.8</td>\n",
       "    </tr>\n",
       "    <tr>\n",
       "      <th>1</th>\n",
       "      <td>In an extraordinary facetoface meeting at the ...</td>\n",
       "      <td>1</td>\n",
       "      <td>-1.8</td>\n",
       "    </tr>\n",
       "    <tr>\n",
       "      <th>2</th>\n",
       "      <td>Ukrainian President Volodymyr Zelenskyy on Wed...</td>\n",
       "      <td>1</td>\n",
       "      <td>3.7</td>\n",
       "    </tr>\n",
       "    <tr>\n",
       "      <th>3</th>\n",
       "      <td>A patient is turned away from the emergency ro...</td>\n",
       "      <td>1</td>\n",
       "      <td>-1.5</td>\n",
       "    </tr>\n",
       "    <tr>\n",
       "      <th>4</th>\n",
       "      <td>Washington    Two Americans who had been detai...</td>\n",
       "      <td>1</td>\n",
       "      <td>-2.0</td>\n",
       "    </tr>\n",
       "    <tr>\n",
       "      <th>...</th>\n",
       "      <td>...</td>\n",
       "      <td>...</td>\n",
       "      <td>...</td>\n",
       "    </tr>\n",
       "    <tr>\n",
       "      <th>283493</th>\n",
       "      <td>soo cool i wont but i9 cant</td>\n",
       "      <td>0</td>\n",
       "      <td>NaN</td>\n",
       "    </tr>\n",
       "    <tr>\n",
       "      <th>283494</th>\n",
       "      <td>Just got megans birthday gifts I think i did g...</td>\n",
       "      <td>0</td>\n",
       "      <td>NaN</td>\n",
       "    </tr>\n",
       "    <tr>\n",
       "      <th>283495</th>\n",
       "      <td>Good morning Avi and a great week to you too ...</td>\n",
       "      <td>0</td>\n",
       "      <td>NaN</td>\n",
       "    </tr>\n",
       "    <tr>\n",
       "      <th>283496</th>\n",
       "      <td>you look so cute  love it  xoxo</td>\n",
       "      <td>0</td>\n",
       "      <td>NaN</td>\n",
       "    </tr>\n",
       "    <tr>\n",
       "      <th>283497</th>\n",
       "      <td>It says the videos private</td>\n",
       "      <td>0</td>\n",
       "      <td>NaN</td>\n",
       "    </tr>\n",
       "  </tbody>\n",
       "</table>\n",
       "<p>283498 rows × 3 columns</p>\n",
       "</div>"
      ],
      "text/plain": [
       "                                                     text  kind  score\n",
       "0       Summary US announces new 185 bln military aid ...     1   -0.8\n",
       "1       In an extraordinary facetoface meeting at the ...     1   -1.8\n",
       "2       Ukrainian President Volodymyr Zelenskyy on Wed...     1    3.7\n",
       "3       A patient is turned away from the emergency ro...     1   -1.5\n",
       "4       Washington    Two Americans who had been detai...     1   -2.0\n",
       "...                                                   ...   ...    ...\n",
       "283493                       soo cool i wont but i9 cant      0    NaN\n",
       "283494  Just got megans birthday gifts I think i did g...     0    NaN\n",
       "283495   Good morning Avi and a great week to you too ...     0    NaN\n",
       "283496                    you look so cute  love it  xoxo     0    NaN\n",
       "283497                        It says the videos private      0    NaN\n",
       "\n",
       "[283498 rows x 3 columns]"
      ]
     },
     "execution_count": 7,
     "metadata": {},
     "output_type": "execute_result"
    }
   ],
   "source": [
    "df"
   ]
  },
  {
   "cell_type": "code",
   "execution_count": 3,
   "metadata": {},
   "outputs": [],
   "source": [
    "df.columns = ['text', 'label']"
   ]
  },
  {
   "cell_type": "code",
   "execution_count": 9,
   "metadata": {},
   "outputs": [
    {
     "name": "stderr",
     "output_type": "stream",
     "text": [
      "/var/folders/tv/_hp7fqz10tlgb38nnwr3p4bm0000gn/T/ipykernel_60662/868195269.py:1: FutureWarning: The default value of regex will change from True to False in a future version.\n",
      "  df['text'] = df['text'].str.replace('[^\\w\\s]', '')\n"
     ]
    }
   ],
   "source": [
    "df['text'] = df['text'].str.replace('[^\\w\\s]', '')"
   ]
  },
  {
   "cell_type": "code",
   "execution_count": 10,
   "metadata": {},
   "outputs": [],
   "source": [
    "# Pure Dataset\n",
    "df.to_csv('/Users/yijie/Library/CloudStorage/OneDrive-HKUST(Guangzhou)/Research/GitHub/news-title-bias/data/dataset/dataset/dataset_combined_multitask.csv', index = False, encoding = 'utf_8_sig', header=0)"
   ]
  },
  {
   "cell_type": "code",
   "execution_count": null,
   "metadata": {},
   "outputs": [],
   "source": [
    "# Combined Dataset\n",
    "df.to_csv('', index = False, encoding = 'utf_8_sig', header=0)"
   ]
  },
  {
   "cell_type": "code",
   "execution_count": null,
   "metadata": {},
   "outputs": [],
   "source": [
    "# Pure Dataset\n",
    "from sklearn.model_selection import train_test_split\n",
    "train, test = train_test_split(df, test_size=0.2, random_state=42)\n",
    "test, val = train_test_split(test, test_size=0.5, random_state=42)\n",
    "train.to_csv('../../data/dataset/train.csv', index=False, encoding='utf-8', header=0)\n",
    "test.to_csv('../../data/dataset/test.csv', index=False, encoding='utf-8', header=0)\n",
    "val.to_csv('../../data/dataset/val.csv', index=False, encoding='utf-8', header=0)"
   ]
  },
  {
   "cell_type": "code",
   "execution_count": 16,
   "metadata": {},
   "outputs": [],
   "source": [
    "# Combined Dataset\n",
    "from sklearn.model_selection import train_test_split\n",
    "train, test = train_test_split(df, test_size=0.2, random_state=42)\n",
    "test, val = train_test_split(test, test_size=0.5, random_state=42)\n",
    "train.to_csv('/home/data/xuyijie/news-title-bias/data/dataset/dataset_combined_multitask_train.csv', index=False, encoding='utf-8',)\n",
    "test.to_csv('/home/data/xuyijie/news-title-bias/data/dataset/dataset_combined_multitask_test.csv', index=False, encoding='utf-8', header=0)\n",
    "val.to_csv('/home/data/xuyijie/news-title-bias/data/dataset/dataset_combined_multitask_val.csv', index=False, encoding='utf-8', header=0)"
   ]
  }
 ],
 "metadata": {
  "kernelspec": {
   "display_name": "Python 3",
   "language": "python",
   "name": "python3"
  },
  "language_info": {
   "codemirror_mode": {
    "name": "ipython",
    "version": 3
   },
   "file_extension": ".py",
   "mimetype": "text/x-python",
   "name": "python",
   "nbconvert_exporter": "python",
   "pygments_lexer": "ipython3",
   "version": "3.10.11"
  },
  "orig_nbformat": 4,
  "vscode": {
   "interpreter": {
    "hash": "53aeca02714710f53ed140b9666583ce1d97379b4d397b4d0ddb1db91889d322"
   }
  }
 },
 "nbformat": 4,
 "nbformat_minor": 2
}
