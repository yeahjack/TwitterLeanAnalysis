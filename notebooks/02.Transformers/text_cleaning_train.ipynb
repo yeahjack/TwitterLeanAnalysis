{
 "cells": [
  {
   "cell_type": "code",
   "execution_count": 1,
   "metadata": {},
   "outputs": [],
   "source": [
    "import pandas as pd"
   ]
  },
  {
   "cell_type": "code",
   "execution_count": 4,
   "metadata": {},
   "outputs": [],
   "source": [
    "# Pure Dataset\n",
    "df  =  pd.read_csv('/Users/yijie/Library/CloudStorage/OneDrive-HKUST(Guangzhou)/Research/GitHub/news-title-bias/data/dataset/dataset/dataset.csv')"
   ]
  },
  {
   "cell_type": "code",
   "execution_count": 2,
   "metadata": {},
   "outputs": [
    {
     "name": "stderr",
     "output_type": "stream",
     "text": [
      "/tmp/ipykernel_1513376/4062021199.py:2: DtypeWarning: Columns (1,2) have mixed types. Specify dtype option on import or set low_memory=False.\n",
      "  df  =  pd.read_csv('/home/xuyijie/news-title-bias/data/dataset/dataset_combined_multitask.csv', encoding = 'utf_8_sig', names=['text','kind','score'])\n"
     ]
    }
   ],
   "source": [
    "# Combined Dataset\n",
    "df  =  pd.read_csv('/home/xuyijie/news-title-bias/data/dataset/dataset_combined_multitask.csv', encoding = 'utf_8_sig', names=['text','kind','score'])"
   ]
  },
  {
   "cell_type": "code",
   "execution_count": 3,
   "metadata": {},
   "outputs": [
    {
     "data": {
      "text/html": [
       "<div>\n",
       "<style scoped>\n",
       "    .dataframe tbody tr th:only-of-type {\n",
       "        vertical-align: middle;\n",
       "    }\n",
       "\n",
       "    .dataframe tbody tr th {\n",
       "        vertical-align: top;\n",
       "    }\n",
       "\n",
       "    .dataframe thead th {\n",
       "        text-align: right;\n",
       "    }\n",
       "</style>\n",
       "<table border=\"1\" class=\"dataframe\">\n",
       "  <thead>\n",
       "    <tr style=\"text-align: right;\">\n",
       "      <th></th>\n",
       "      <th>text</th>\n",
       "      <th>kind</th>\n",
       "      <th>score</th>\n",
       "    </tr>\n",
       "  </thead>\n",
       "  <tbody>\n",
       "    <tr>\n",
       "      <th>0</th>\n",
       "      <td>text</td>\n",
       "      <td>kind</td>\n",
       "      <td>score</td>\n",
       "    </tr>\n",
       "    <tr>\n",
       "      <th>1</th>\n",
       "      <td>Summary U.S. announces new $1.85 bln military ...</td>\n",
       "      <td>1</td>\n",
       "      <td>-0.8</td>\n",
       "    </tr>\n",
       "    <tr>\n",
       "      <th>2</th>\n",
       "      <td>In an extraordinary face-to-face meeting at th...</td>\n",
       "      <td>1</td>\n",
       "      <td>-1.8</td>\n",
       "    </tr>\n",
       "    <tr>\n",
       "      <th>3</th>\n",
       "      <td>Ukrainian President Volodymyr Zelenskyy on Wed...</td>\n",
       "      <td>1</td>\n",
       "      <td>3.7</td>\n",
       "    </tr>\n",
       "    <tr>\n",
       "      <th>4</th>\n",
       "      <td>A patient is turned away from the emergency ro...</td>\n",
       "      <td>1</td>\n",
       "      <td>-1.5</td>\n",
       "    </tr>\n",
       "    <tr>\n",
       "      <th>...</th>\n",
       "      <td>...</td>\n",
       "      <td>...</td>\n",
       "      <td>...</td>\n",
       "    </tr>\n",
       "    <tr>\n",
       "      <th>467136</th>\n",
       "      <td>No, Smushy's a puppy. This is my older dog. ...</td>\n",
       "      <td>0</td>\n",
       "      <td>0</td>\n",
       "    </tr>\n",
       "    <tr>\n",
       "      <th>467137</th>\n",
       "      <td>Weekend with the 151 girls in Baltimore</td>\n",
       "      <td>0</td>\n",
       "      <td>0</td>\n",
       "    </tr>\n",
       "    <tr>\n",
       "      <th>467138</th>\n",
       "      <td>ohayo! hey - it's still sunday here - i'm no...</td>\n",
       "      <td>0</td>\n",
       "      <td>0</td>\n",
       "    </tr>\n",
       "    <tr>\n",
       "      <th>467139</th>\n",
       "      <td>your man comes on tonight, you need to put o...</td>\n",
       "      <td>0</td>\n",
       "      <td>0</td>\n",
       "    </tr>\n",
       "    <tr>\n",
       "      <th>467140</th>\n",
       "      <td>hope so!! they could share with us their liv...</td>\n",
       "      <td>0</td>\n",
       "      <td>0</td>\n",
       "    </tr>\n",
       "  </tbody>\n",
       "</table>\n",
       "<p>467141 rows × 3 columns</p>\n",
       "</div>"
      ],
      "text/plain": [
       "                                                     text  kind  score\n",
       "0                                                    text  kind  score\n",
       "1       Summary U.S. announces new $1.85 bln military ...     1   -0.8\n",
       "2       In an extraordinary face-to-face meeting at th...     1   -1.8\n",
       "3       Ukrainian President Volodymyr Zelenskyy on Wed...     1    3.7\n",
       "4       A patient is turned away from the emergency ro...     1   -1.5\n",
       "...                                                   ...   ...    ...\n",
       "467136    No, Smushy's a puppy. This is my older dog. ...     0      0\n",
       "467137          Weekend with the 151 girls in Baltimore       0      0\n",
       "467138    ohayo! hey - it's still sunday here - i'm no...     0      0\n",
       "467139    your man comes on tonight, you need to put o...     0      0\n",
       "467140    hope so!! they could share with us their liv...     0      0\n",
       "\n",
       "[467141 rows x 3 columns]"
      ]
     },
     "execution_count": 3,
     "metadata": {},
     "output_type": "execute_result"
    }
   ],
   "source": [
    "df"
   ]
  },
  {
   "cell_type": "code",
   "execution_count": 3,
   "metadata": {},
   "outputs": [],
   "source": [
    "df.columns = ['text', 'label']"
   ]
  },
  {
   "cell_type": "code",
   "execution_count": 9,
   "metadata": {},
   "outputs": [
    {
     "name": "stderr",
     "output_type": "stream",
     "text": [
      "/var/folders/tv/_hp7fqz10tlgb38nnwr3p4bm0000gn/T/ipykernel_60662/868195269.py:1: FutureWarning: The default value of regex will change from True to False in a future version.\n",
      "  df['text'] = df['text'].str.replace('[^\\w\\s]', '')\n"
     ]
    }
   ],
   "source": [
    "df['text'] = df['text'].str.replace('[^\\w\\s]', '')"
   ]
  },
  {
   "cell_type": "code",
   "execution_count": 10,
   "metadata": {},
   "outputs": [],
   "source": [
    "# Pure Dataset\n",
    "df.to_csv('/Users/yijie/Library/CloudStorage/OneDrive-HKUST(Guangzhou)/Research/GitHub/news-title-bias/data/dataset/dataset/dataset_combined_multitask.csv', index = False, encoding = 'utf_8_sig', header=0)"
   ]
  },
  {
   "cell_type": "code",
   "execution_count": null,
   "metadata": {},
   "outputs": [],
   "source": [
    "# Combined Dataset\n",
    "df.to_csv('', index = False, encoding = 'utf_8_sig', header=0)"
   ]
  },
  {
   "cell_type": "code",
   "execution_count": null,
   "metadata": {},
   "outputs": [],
   "source": [
    "# Pure Dataset\n",
    "from sklearn.model_selection import train_test_split\n",
    "train, test = train_test_split(df, test_size=0.2, random_state=42)\n",
    "test, val = train_test_split(test, test_size=0.5, random_state=42)\n",
    "train.to_csv('../../data/dataset/train.csv', index=False, encoding='utf-8', header=0)\n",
    "test.to_csv('../../data/dataset/test.csv', index=False, encoding='utf-8', header=0)\n",
    "val.to_csv('../../data/dataset/val.csv', index=False, encoding='utf-8', header=0)"
   ]
  },
  {
   "cell_type": "code",
   "execution_count": 16,
   "metadata": {},
   "outputs": [],
   "source": [
    "# Combined Dataset\n",
    "from sklearn.model_selection import train_test_split\n",
    "train, test = train_test_split(df, test_size=0.2, random_state=42)\n",
    "test, val = train_test_split(test, test_size=0.5, random_state=42)\n",
    "train.to_csv('/home/xuyijie/news-title-bias/data/dataset/dataset_combined_multitask_train.csv', index=False, encoding='utf-8',)\n",
    "test.to_csv('/home/xuyijie/news-title-bias/data/dataset/dataset_combined_multitask_test.csv', index=False, encoding='utf-8', header=0)\n",
    "val.to_csv('/home/xuyijie/news-title-bias/data/dataset/dataset_combined_multitask_val.csv', index=False, encoding='utf-8', header=0)"
   ]
  },
  {
   "cell_type": "code",
   "execution_count": 6,
   "metadata": {},
   "outputs": [],
   "source": [
    "from sklearn.model_selection import train_test_split\n",
    "train , debug = train_test_split(df, test_size=0.003, random_state=42)"
   ]
  },
  {
   "cell_type": "code",
   "execution_count": 8,
   "metadata": {},
   "outputs": [],
   "source": [
    "debug.to_csv('/home/xuyijie/news-title-bias/data/dataset/dataset_combined_multitask_debug.csv', index=False, encoding='utf-8', header=0)"
   ]
  }
 ],
 "metadata": {
  "kernelspec": {
   "display_name": "Python 3",
   "language": "python",
   "name": "python3"
  },
  "language_info": {
   "codemirror_mode": {
    "name": "ipython",
    "version": 3
   },
   "file_extension": ".py",
   "mimetype": "text/x-python",
   "name": "python",
   "nbconvert_exporter": "python",
   "pygments_lexer": "ipython3",
   "version": "3.10.11"
  },
  "orig_nbformat": 4,
  "vscode": {
   "interpreter": {
    "hash": "53aeca02714710f53ed140b9666583ce1d97379b4d397b4d0ddb1db91889d322"
   }
  }
 },
 "nbformat": 4,
 "nbformat_minor": 2
}
