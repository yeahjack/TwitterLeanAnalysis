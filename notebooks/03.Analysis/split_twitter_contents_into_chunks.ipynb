{
 "cells": [
  {
   "cell_type": "code",
   "execution_count": 1,
   "metadata": {},
   "outputs": [],
   "source": [
    "import pandas as pd\n",
    "from tqdm import tqdm\n",
    "import pyarrow.parquet as pq\n",
    "from multiprocessing import Process, Pool\n",
    "import numpy as np\n",
    "import pyarrow as pa"
   ]
  },
  {
   "cell_type": "code",
   "execution_count": 2,
   "metadata": {},
   "outputs": [
    {
     "name": "stdout",
     "output_type": "stream",
     "text": [
      "data loaded\n"
     ]
    }
   ],
   "source": [
    "twitter_content = pq.read_table(\n",
    "    \"/home/data/xuyijie/Documents/AllsidesScraper/news-title-bias/data/TwitterData/df_all_tweets_en.parquet\").to_pandas()\n",
    "print(\"data loaded\")"
   ]
  },
  {
   "cell_type": "code",
   "execution_count": 3,
   "metadata": {},
   "outputs": [],
   "source": [
    "# twitter_content = pd.DataFrame(twitter_content.reset_index().TweetContent)\n",
    "# twitter_content = twitter_content.reset_index()"
   ]
  },
  {
   "cell_type": "code",
   "execution_count": 3,
   "metadata": {},
   "outputs": [],
   "source": [
    "chunks = np.array_split(twitter_content, 50)"
   ]
  },
  {
   "cell_type": "code",
   "execution_count": 5,
   "metadata": {},
   "outputs": [
    {
     "name": "stdout",
     "output_type": "stream",
     "text": [
      "1389986\n",
      "1389986\n",
      "1389986\n",
      "1389986\n",
      "1389986\n",
      "1389986\n",
      "1389986\n",
      "1389986\n",
      "1389986\n",
      "1389986\n",
      "1389985\n",
      "1389985\n",
      "1389985\n",
      "1389985\n",
      "1389985\n",
      "1389985\n",
      "1389985\n",
      "1389985\n",
      "1389985\n",
      "1389985\n",
      "1389985\n",
      "1389985\n",
      "1389985\n",
      "1389985\n",
      "1389985\n",
      "1389985\n",
      "1389985\n",
      "1389985\n",
      "1389985\n",
      "1389985\n",
      "1389985\n",
      "1389985\n",
      "1389985\n",
      "1389985\n",
      "1389985\n",
      "1389985\n",
      "1389985\n",
      "1389985\n",
      "1389985\n",
      "1389985\n",
      "1389985\n",
      "1389985\n",
      "1389985\n",
      "1389985\n",
      "1389985\n",
      "1389985\n",
      "1389985\n",
      "1389985\n",
      "1389985\n",
      "1389985\n"
     ]
    }
   ],
   "source": [
    "for chunk in chunks:\n",
    "    print(chunk.shape[0])"
   ]
  },
  {
   "cell_type": "code",
   "execution_count": 25,
   "metadata": {},
   "outputs": [],
   "source": [
    "import pandas as pd\n",
    "\n",
    "def chunkize(df, n):\n",
    "    chunks = []\n",
    "    n_each_row = df.shape[0] // n - 1\n",
    "    print(n_each_row)\n",
    "    for i in range(n-1):\n",
    "        chunks.append(df.loc[i*n_each_row: (i+1)*n_each_row])\n",
    "    chunks.append(df.loc[(i+1)*n_each_row:])\n",
    "    return chunks\n"
   ]
  },
  {
   "cell_type": "code",
   "execution_count": 7,
   "metadata": {},
   "outputs": [
    {
     "data": {
      "text/plain": [
       "69499260"
      ]
     },
     "execution_count": 7,
     "metadata": {},
     "output_type": "execute_result"
    }
   ],
   "source": [
    "sum([len(chunk) for chunk in chunks])"
   ]
  },
  {
   "cell_type": "code",
   "execution_count": 8,
   "metadata": {},
   "outputs": [
    {
     "name": "stderr",
     "output_type": "stream",
     "text": [
      "100%|██████████| 50/50 [03:46<00:00,  4.54s/it]\n"
     ]
    }
   ],
   "source": [
    "for i in tqdm(range(len(chunks))):\n",
    "    pq.write_table(pa.Table.from_pandas(chunks[i]), \"/home/data/xuyijie/Documents/AllsidesScraper/news-title-bias/data/TwitterData/Twitter_Contents_to_50/%s.parquet\" % i)"
   ]
  },
  {
   "cell_type": "code",
   "execution_count": 8,
   "metadata": {},
   "outputs": [
    {
     "data": {
      "text/html": [
       "<div>\n",
       "<style scoped>\n",
       "    .dataframe tbody tr th:only-of-type {\n",
       "        vertical-align: middle;\n",
       "    }\n",
       "\n",
       "    .dataframe tbody tr th {\n",
       "        vertical-align: top;\n",
       "    }\n",
       "\n",
       "    .dataframe thead th {\n",
       "        text-align: right;\n",
       "    }\n",
       "</style>\n",
       "<table border=\"1\" class=\"dataframe\">\n",
       "  <thead>\n",
       "    <tr style=\"text-align: right;\">\n",
       "      <th></th>\n",
       "      <th>URL</th>\n",
       "      <th>Date</th>\n",
       "      <th>User</th>\n",
       "      <th>ReplyCount</th>\n",
       "      <th>RetweetCount</th>\n",
       "      <th>LikeCount</th>\n",
       "      <th>QuoteCount</th>\n",
       "      <th>ConversationID</th>\n",
       "      <th>RetweetedTweet</th>\n",
       "      <th>quotedTweet</th>\n",
       "      <th>inReplyToTweetID</th>\n",
       "      <th>inReplyToUser</th>\n",
       "      <th>mentionedUsers</th>\n",
       "      <th>hashtags</th>\n",
       "      <th>TweetContent</th>\n",
       "    </tr>\n",
       "  </thead>\n",
       "  <tbody>\n",
       "    <tr>\n",
       "      <th>0</th>\n",
       "      <td>https://twitter.com/andya_d/status/15881361587...</td>\n",
       "      <td>2022-11-03 11:49:01+00:00</td>\n",
       "      <td>https://twitter.com/andya_d</td>\n",
       "      <td>0</td>\n",
       "      <td>0</td>\n",
       "      <td>1</td>\n",
       "      <td>0</td>\n",
       "      <td>1588116012066652167</td>\n",
       "      <td>None</td>\n",
       "      <td>None</td>\n",
       "      <td>1.5881165568899482e+18</td>\n",
       "      <td>https://twitter.com/RenMar1969</td>\n",
       "      <td>[User(username='RenMar1969', id=81675569973678...</td>\n",
       "      <td>None</td>\n",
       "      <td>@RenMar1969 @PIughuig Ff livestreamen naar You...</td>\n",
       "    </tr>\n",
       "    <tr>\n",
       "      <th>1</th>\n",
       "      <td>https://twitter.com/andya_d/status/15881342362...</td>\n",
       "      <td>2022-11-03 11:41:22+00:00</td>\n",
       "      <td>https://twitter.com/andya_d</td>\n",
       "      <td>0</td>\n",
       "      <td>0</td>\n",
       "      <td>1</td>\n",
       "      <td>0</td>\n",
       "      <td>1588079268046770183</td>\n",
       "      <td>None</td>\n",
       "      <td>https://twitter.com/PIughuig/status/1588116012...</td>\n",
       "      <td>1.5880792680467702e+18</td>\n",
       "      <td>https://twitter.com/BataafseNazorg</td>\n",
       "      <td>[User(username='BataafseNazorg', id=1431521780...</td>\n",
       "      <td>None</td>\n",
       "      <td>@BataafseNazorg Het kaartenhuis stort met dond...</td>\n",
       "    </tr>\n",
       "    <tr>\n",
       "      <th>2</th>\n",
       "      <td>https://twitter.com/andya_d/status/15879514022...</td>\n",
       "      <td>2022-11-02 23:34:51+00:00</td>\n",
       "      <td>https://twitter.com/andya_d</td>\n",
       "      <td>0</td>\n",
       "      <td>1</td>\n",
       "      <td>6</td>\n",
       "      <td>0</td>\n",
       "      <td>1587725229396316160</td>\n",
       "      <td>None</td>\n",
       "      <td>None</td>\n",
       "      <td>1.587932471102165e+18</td>\n",
       "      <td>https://twitter.com/WeimarDay</td>\n",
       "      <td>[User(username='WeimarDay', id=132273057754877...</td>\n",
       "      <td>None</td>\n",
       "      <td>@WeimarDay @yuroon @QuispelErnst @BataafseNazo...</td>\n",
       "    </tr>\n",
       "    <tr>\n",
       "      <th>3</th>\n",
       "      <td>https://twitter.com/andya_d/status/15879267685...</td>\n",
       "      <td>2022-11-02 21:56:58+00:00</td>\n",
       "      <td>https://twitter.com/andya_d</td>\n",
       "      <td>1</td>\n",
       "      <td>0</td>\n",
       "      <td>1</td>\n",
       "      <td>0</td>\n",
       "      <td>1587725229396316160</td>\n",
       "      <td>None</td>\n",
       "      <td>None</td>\n",
       "      <td>1.5879161400340152e+18</td>\n",
       "      <td>https://twitter.com/yuroon</td>\n",
       "      <td>[User(username='yuroon', id=29169337, displayn...</td>\n",
       "      <td>None</td>\n",
       "      <td>@yuroon @QuispelErnst @BataafseNazorg Very, ve...</td>\n",
       "    </tr>\n",
       "    <tr>\n",
       "      <th>4</th>\n",
       "      <td>https://twitter.com/andya_d/status/15879026348...</td>\n",
       "      <td>2022-11-02 20:21:04+00:00</td>\n",
       "      <td>https://twitter.com/andya_d</td>\n",
       "      <td>0</td>\n",
       "      <td>0</td>\n",
       "      <td>1</td>\n",
       "      <td>0</td>\n",
       "      <td>1587816298939031553</td>\n",
       "      <td>None</td>\n",
       "      <td>None</td>\n",
       "      <td>1.5878964734417674e+18</td>\n",
       "      <td>https://twitter.com/Hazehart1</td>\n",
       "      <td>[User(username='Hazehart1', id=154838232676943...</td>\n",
       "      <td>None</td>\n",
       "      <td>@Hazehart1 @dancalegria Alle gekochte internet...</td>\n",
       "    </tr>\n",
       "    <tr>\n",
       "      <th>...</th>\n",
       "      <td>...</td>\n",
       "      <td>...</td>\n",
       "      <td>...</td>\n",
       "      <td>...</td>\n",
       "      <td>...</td>\n",
       "      <td>...</td>\n",
       "      <td>...</td>\n",
       "      <td>...</td>\n",
       "      <td>...</td>\n",
       "      <td>...</td>\n",
       "      <td>...</td>\n",
       "      <td>...</td>\n",
       "      <td>...</td>\n",
       "      <td>...</td>\n",
       "      <td>...</td>\n",
       "    </tr>\n",
       "    <tr>\n",
       "      <th>2397462</th>\n",
       "      <td>https://twitter.com/swinman1961/status/1511815...</td>\n",
       "      <td>2022-04-06 21:19:47+00:00</td>\n",
       "      <td>https://twitter.com/swinman1961</td>\n",
       "      <td>0</td>\n",
       "      <td>0</td>\n",
       "      <td>1</td>\n",
       "      <td>0</td>\n",
       "      <td>1511808809710149635</td>\n",
       "      <td>None</td>\n",
       "      <td>None</td>\n",
       "      <td>1.5118117774698578e+18</td>\n",
       "      <td>https://twitter.com/f_gantry</td>\n",
       "      <td>[User(username='f_gantry', id=1301730052049166...</td>\n",
       "      <td>None</td>\n",
       "      <td>@f_gantry @JustSomeLady_ 2🤣</td>\n",
       "    </tr>\n",
       "    <tr>\n",
       "      <th>2397463</th>\n",
       "      <td>https://twitter.com/swinman1961/status/1511809...</td>\n",
       "      <td>2022-04-06 20:54:28+00:00</td>\n",
       "      <td>https://twitter.com/swinman1961</td>\n",
       "      <td>1</td>\n",
       "      <td>0</td>\n",
       "      <td>1</td>\n",
       "      <td>0</td>\n",
       "      <td>1511808809710149635</td>\n",
       "      <td>None</td>\n",
       "      <td>None</td>\n",
       "      <td>1.5118088097101496e+18</td>\n",
       "      <td>https://twitter.com/JustSomeLady_</td>\n",
       "      <td>[User(username='JustSomeLady_', id=13682350688...</td>\n",
       "      <td>None</td>\n",
       "      <td>@JustSomeLady_ Me, not because I don't want to...</td>\n",
       "    </tr>\n",
       "    <tr>\n",
       "      <th>2397464</th>\n",
       "      <td>https://twitter.com/swinman1961/status/1511809...</td>\n",
       "      <td>2022-04-06 20:52:55+00:00</td>\n",
       "      <td>https://twitter.com/swinman1961</td>\n",
       "      <td>0</td>\n",
       "      <td>0</td>\n",
       "      <td>0</td>\n",
       "      <td>0</td>\n",
       "      <td>1511789815473266691</td>\n",
       "      <td>None</td>\n",
       "      <td>None</td>\n",
       "      <td>1.5117898154732667e+18</td>\n",
       "      <td>https://twitter.com/alison00411</td>\n",
       "      <td>[User(username='alison00411', id=1451375175295...</td>\n",
       "      <td>None</td>\n",
       "      <td>@alison00411 I wouldn't say \"nuthin\" 😍😂</td>\n",
       "    </tr>\n",
       "    <tr>\n",
       "      <th>2397465</th>\n",
       "      <td>https://twitter.com/swinman1961/status/1511561...</td>\n",
       "      <td>2022-04-06 04:30:12+00:00</td>\n",
       "      <td>https://twitter.com/swinman1961</td>\n",
       "      <td>1</td>\n",
       "      <td>0</td>\n",
       "      <td>0</td>\n",
       "      <td>0</td>\n",
       "      <td>1511550120931721216</td>\n",
       "      <td>None</td>\n",
       "      <td>None</td>\n",
       "      <td>1.511550694167298e+18</td>\n",
       "      <td>https://twitter.com/lulumeservey</td>\n",
       "      <td>[User(username='lulumeservey', id=3319762895, ...</td>\n",
       "      <td>None</td>\n",
       "      <td>@lulumeservey @Bcohen93 \"The\" Ben Cohen? 👍</td>\n",
       "    </tr>\n",
       "    <tr>\n",
       "      <th>2397466</th>\n",
       "      <td>https://twitter.com/swinman1961/status/1511561...</td>\n",
       "      <td>2022-04-06 04:28:07+00:00</td>\n",
       "      <td>https://twitter.com/swinman1961</td>\n",
       "      <td>0</td>\n",
       "      <td>0</td>\n",
       "      <td>0</td>\n",
       "      <td>0</td>\n",
       "      <td>1511508823428632582</td>\n",
       "      <td>None</td>\n",
       "      <td>None</td>\n",
       "      <td>1.5115088234286326e+18</td>\n",
       "      <td>https://twitter.com/Hope96776743</td>\n",
       "      <td>[User(username='Hope96776743', id=138179508442...</td>\n",
       "      <td>None</td>\n",
       "      <td>@Hope96776743 I'm looking at your hair. The wi...</td>\n",
       "    </tr>\n",
       "  </tbody>\n",
       "</table>\n",
       "<p>2397467 rows × 15 columns</p>\n",
       "</div>"
      ],
      "text/plain": [
       "                                                       URL  \\\n",
       "0        https://twitter.com/andya_d/status/15881361587...   \n",
       "1        https://twitter.com/andya_d/status/15881342362...   \n",
       "2        https://twitter.com/andya_d/status/15879514022...   \n",
       "3        https://twitter.com/andya_d/status/15879267685...   \n",
       "4        https://twitter.com/andya_d/status/15879026348...   \n",
       "...                                                    ...   \n",
       "2397462  https://twitter.com/swinman1961/status/1511815...   \n",
       "2397463  https://twitter.com/swinman1961/status/1511809...   \n",
       "2397464  https://twitter.com/swinman1961/status/1511809...   \n",
       "2397465  https://twitter.com/swinman1961/status/1511561...   \n",
       "2397466  https://twitter.com/swinman1961/status/1511561...   \n",
       "\n",
       "                              Date                             User  \\\n",
       "0        2022-11-03 11:49:01+00:00      https://twitter.com/andya_d   \n",
       "1        2022-11-03 11:41:22+00:00      https://twitter.com/andya_d   \n",
       "2        2022-11-02 23:34:51+00:00      https://twitter.com/andya_d   \n",
       "3        2022-11-02 21:56:58+00:00      https://twitter.com/andya_d   \n",
       "4        2022-11-02 20:21:04+00:00      https://twitter.com/andya_d   \n",
       "...                            ...                              ...   \n",
       "2397462  2022-04-06 21:19:47+00:00  https://twitter.com/swinman1961   \n",
       "2397463  2022-04-06 20:54:28+00:00  https://twitter.com/swinman1961   \n",
       "2397464  2022-04-06 20:52:55+00:00  https://twitter.com/swinman1961   \n",
       "2397465  2022-04-06 04:30:12+00:00  https://twitter.com/swinman1961   \n",
       "2397466  2022-04-06 04:28:07+00:00  https://twitter.com/swinman1961   \n",
       "\n",
       "        ReplyCount RetweetCount LikeCount QuoteCount       ConversationID  \\\n",
       "0                0            0         1          0  1588116012066652167   \n",
       "1                0            0         1          0  1588079268046770183   \n",
       "2                0            1         6          0  1587725229396316160   \n",
       "3                1            0         1          0  1587725229396316160   \n",
       "4                0            0         1          0  1587816298939031553   \n",
       "...            ...          ...       ...        ...                  ...   \n",
       "2397462          0            0         1          0  1511808809710149635   \n",
       "2397463          1            0         1          0  1511808809710149635   \n",
       "2397464          0            0         0          0  1511789815473266691   \n",
       "2397465          1            0         0          0  1511550120931721216   \n",
       "2397466          0            0         0          0  1511508823428632582   \n",
       "\n",
       "        RetweetedTweet                                        quotedTweet  \\\n",
       "0                 None                                               None   \n",
       "1                 None  https://twitter.com/PIughuig/status/1588116012...   \n",
       "2                 None                                               None   \n",
       "3                 None                                               None   \n",
       "4                 None                                               None   \n",
       "...                ...                                                ...   \n",
       "2397462           None                                               None   \n",
       "2397463           None                                               None   \n",
       "2397464           None                                               None   \n",
       "2397465           None                                               None   \n",
       "2397466           None                                               None   \n",
       "\n",
       "               inReplyToTweetID                       inReplyToUser  \\\n",
       "0        1.5881165568899482e+18      https://twitter.com/RenMar1969   \n",
       "1        1.5880792680467702e+18  https://twitter.com/BataafseNazorg   \n",
       "2         1.587932471102165e+18       https://twitter.com/WeimarDay   \n",
       "3        1.5879161400340152e+18          https://twitter.com/yuroon   \n",
       "4        1.5878964734417674e+18       https://twitter.com/Hazehart1   \n",
       "...                         ...                                 ...   \n",
       "2397462  1.5118117774698578e+18        https://twitter.com/f_gantry   \n",
       "2397463  1.5118088097101496e+18   https://twitter.com/JustSomeLady_   \n",
       "2397464  1.5117898154732667e+18     https://twitter.com/alison00411   \n",
       "2397465   1.511550694167298e+18    https://twitter.com/lulumeservey   \n",
       "2397466  1.5115088234286326e+18    https://twitter.com/Hope96776743   \n",
       "\n",
       "                                            mentionedUsers hashtags  \\\n",
       "0        [User(username='RenMar1969', id=81675569973678...     None   \n",
       "1        [User(username='BataafseNazorg', id=1431521780...     None   \n",
       "2        [User(username='WeimarDay', id=132273057754877...     None   \n",
       "3        [User(username='yuroon', id=29169337, displayn...     None   \n",
       "4        [User(username='Hazehart1', id=154838232676943...     None   \n",
       "...                                                    ...      ...   \n",
       "2397462  [User(username='f_gantry', id=1301730052049166...     None   \n",
       "2397463  [User(username='JustSomeLady_', id=13682350688...     None   \n",
       "2397464  [User(username='alison00411', id=1451375175295...     None   \n",
       "2397465  [User(username='lulumeservey', id=3319762895, ...     None   \n",
       "2397466  [User(username='Hope96776743', id=138179508442...     None   \n",
       "\n",
       "                                              TweetContent  \n",
       "0        @RenMar1969 @PIughuig Ff livestreamen naar You...  \n",
       "1        @BataafseNazorg Het kaartenhuis stort met dond...  \n",
       "2        @WeimarDay @yuroon @QuispelErnst @BataafseNazo...  \n",
       "3        @yuroon @QuispelErnst @BataafseNazorg Very, ve...  \n",
       "4        @Hazehart1 @dancalegria Alle gekochte internet...  \n",
       "...                                                    ...  \n",
       "2397462                        @f_gantry @JustSomeLady_ 2🤣  \n",
       "2397463  @JustSomeLady_ Me, not because I don't want to...  \n",
       "2397464            @alison00411 I wouldn't say \"nuthin\" 😍😂  \n",
       "2397465         @lulumeservey @Bcohen93 \"The\" Ben Cohen? 👍  \n",
       "2397466  @Hope96776743 I'm looking at your hair. The wi...  \n",
       "\n",
       "[2397467 rows x 15 columns]"
      ]
     },
     "execution_count": 8,
     "metadata": {},
     "output_type": "execute_result"
    }
   ],
   "source": [
    "chunks[0]"
   ]
  },
  {
   "cell_type": "code",
   "execution_count": 19,
   "metadata": {},
   "outputs": [
    {
     "name": "stderr",
     "output_type": "stream",
     "text": [
      "100%|██████████| 10/10 [02:49<00:00, 16.94s/it]\n"
     ]
    }
   ],
   "source": [
    "for i in tqdm(range(len(chunks))):\n",
    "    chunks[i].to_csv(\"/home/data/xuyijie/Documents/AllsidesScraper/news-title-bias/data/TwitterData/Twitter_Contents_to_10/%s.csv\" % i)"
   ]
  },
  {
   "cell_type": "code",
   "execution_count": 6,
   "metadata": {},
   "outputs": [
    {
     "name": "stderr",
     "output_type": "stream",
     "text": [
      " 10%|█         | 1/10 [00:12<01:53, 12.60s/it]"
     ]
    },
    {
     "name": "stdout",
     "output_type": "stream",
     "text": [
      "data loaded for 1\n"
     ]
    },
    {
     "name": "stderr",
     "output_type": "stream",
     "text": [
      " 20%|██        | 2/10 [00:15<00:54,  6.86s/it]"
     ]
    },
    {
     "name": "stdout",
     "output_type": "stream",
     "text": [
      "data loaded for 2\n"
     ]
    },
    {
     "name": "stderr",
     "output_type": "stream",
     "text": [
      " 30%|███       | 3/10 [00:18<00:36,  5.19s/it]"
     ]
    },
    {
     "name": "stdout",
     "output_type": "stream",
     "text": [
      "data loaded for 3\n"
     ]
    },
    {
     "name": "stderr",
     "output_type": "stream",
     "text": [
      " 40%|████      | 4/10 [00:22<00:27,  4.57s/it]"
     ]
    },
    {
     "name": "stdout",
     "output_type": "stream",
     "text": [
      "data loaded for 4\n"
     ]
    },
    {
     "name": "stderr",
     "output_type": "stream",
     "text": [
      " 50%|█████     | 5/10 [00:25<00:21,  4.25s/it]"
     ]
    },
    {
     "name": "stdout",
     "output_type": "stream",
     "text": [
      "data loaded for 5\n"
     ]
    },
    {
     "name": "stderr",
     "output_type": "stream",
     "text": [
      " 60%|██████    | 6/10 [00:29<00:15,  3.90s/it]"
     ]
    },
    {
     "name": "stdout",
     "output_type": "stream",
     "text": [
      "data loaded for 6\n"
     ]
    },
    {
     "name": "stderr",
     "output_type": "stream",
     "text": [
      " 70%|███████   | 7/10 [00:33<00:11,  3.97s/it]"
     ]
    },
    {
     "name": "stdout",
     "output_type": "stream",
     "text": [
      "data loaded for 7\n"
     ]
    },
    {
     "name": "stderr",
     "output_type": "stream",
     "text": [
      " 80%|████████  | 8/10 [00:36<00:07,  3.82s/it]"
     ]
    },
    {
     "name": "stdout",
     "output_type": "stream",
     "text": [
      "data loaded for 8\n"
     ]
    },
    {
     "name": "stderr",
     "output_type": "stream",
     "text": [
      " 90%|█████████ | 9/10 [00:41<00:03,  3.97s/it]"
     ]
    },
    {
     "name": "stdout",
     "output_type": "stream",
     "text": [
      "data loaded for 9\n"
     ]
    },
    {
     "name": "stderr",
     "output_type": "stream",
     "text": [
      "100%|██████████| 10/10 [00:44<00:00,  4.49s/it]"
     ]
    },
    {
     "name": "stdout",
     "output_type": "stream",
     "text": [
      "data loaded for 10\n"
     ]
    },
    {
     "name": "stderr",
     "output_type": "stream",
     "text": [
      "\n"
     ]
    },
    {
     "ename": "",
     "evalue": "",
     "output_type": "error",
     "traceback": [
      "\u001b[1;31m在当前单元格或上一个单元格中执行代码时 Kernel 崩溃。请查看单元格中的代码，以确定故障的可能原因。有关详细信息，请单击 <a href='https://aka.ms/vscodeJupyterKernelCrash'>此处</a>。有关更多详细信息，请查看 Jupyter <a href='command:jupyter.viewOutput'>log</a>。"
     ]
    }
   ],
   "source": [
    "for i in tqdm(range(50)):\n",
    "    try:\n",
    "        twitter_content = pq.read_table(\n",
    "    \"/home/data/xuyijie/Documents/AllsidesScraper/news-title-bias/data/TwitterData/Twitter_Contents_to_50/%s.parquet\"%i).to_pandas()\n",
    "        print(\"data loaded for %s\"%(i+1))\n",
    "    except BaseException as e:\n",
    "        print(e)"
   ]
  },
  {
   "cell_type": "code",
   "execution_count": null,
   "metadata": {},
   "outputs": [],
   "source": []
  }
 ],
 "metadata": {
  "kernelspec": {
   "display_name": "torch",
   "language": "python",
   "name": "python3"
  },
  "language_info": {
   "codemirror_mode": {
    "name": "ipython",
    "version": 3
   },
   "file_extension": ".py",
   "mimetype": "text/x-python",
   "name": "python",
   "nbconvert_exporter": "python",
   "pygments_lexer": "ipython3",
   "version": "3.10.9"
  },
  "orig_nbformat": 4,
  "vscode": {
   "interpreter": {
    "hash": "ec1a579230a91ec1592f36fdc447583cb97a50a1e758ae83e4a7e94cfd0b10a7"
   }
  }
 },
 "nbformat": 4,
 "nbformat_minor": 2
}
