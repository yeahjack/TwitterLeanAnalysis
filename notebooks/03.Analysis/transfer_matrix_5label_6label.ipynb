{
 "cells": [
  {
   "cell_type": "code",
   "execution_count": 1,
   "metadata": {},
   "outputs": [
    {
     "name": "stderr",
     "output_type": "stream",
     "text": [
      "2023-03-11 12:48:55.672147: I tensorflow/core/platform/cpu_feature_guard.cc:193] This TensorFlow binary is optimized with oneAPI Deep Neural Network Library (oneDNN) to use the following CPU instructions in performance-critical operations:  SSE4.1 SSE4.2 AVX AVX2 FMA\n",
      "To enable them in other operations, rebuild TensorFlow with the appropriate compiler flags.\n"
     ]
    }
   ],
   "source": [
    "from simpletransformers.classification import ClassificationModel, ClassificationArgs\n",
    "import pandas as pd\n",
    "import pyarrow.parquet as pq\n",
    "import pyarrow as pa\n",
    "from tqdm import tqdm\n",
    "import os\n",
    "from pprint import pprint"
   ]
  },
  {
   "cell_type": "code",
   "execution_count": 2,
   "metadata": {},
   "outputs": [],
   "source": [
    "# Load Parquet\n",
    "df_5label = pq.read_table('/home/data/xuyijie/Documents/AllsidesScraper/news-title-bias/data/TwitterData/df_tweet_content_predictions_5kind.parquet').to_pandas()\n",
    "df_6label = pq.read_table('/home/data/xuyijie/Documents/AllsidesScraper/news-title-bias/data/TwitterData/df_tweet_content_predictions_6kind.parquet').to_pandas()"
   ]
  },
  {
   "cell_type": "code",
   "execution_count": 3,
   "metadata": {},
   "outputs": [],
   "source": [
    "# Transfer Matrix\n",
    "import numpy as np\n",
    "transfer_matrix = np.zeros((5, 6))\n",
    "for i in range(5):\n",
    "    for j in range(6):\n",
    "        mask = (df_5label['Predictions'] == i) & (df_6label['Predictions'] == j)\n",
    "        transfer_matrix[i, j] = np.sum(mask)"
   ]
  },
  {
   "cell_type": "code",
   "execution_count": 4,
   "metadata": {},
   "outputs": [
    {
     "data": {
      "text/html": [
       "<div>\n",
       "<style scoped>\n",
       "    .dataframe tbody tr th:only-of-type {\n",
       "        vertical-align: middle;\n",
       "    }\n",
       "\n",
       "    .dataframe tbody tr th {\n",
       "        vertical-align: top;\n",
       "    }\n",
       "\n",
       "    .dataframe thead th {\n",
       "        text-align: right;\n",
       "    }\n",
       "</style>\n",
       "<table border=\"1\" class=\"dataframe\">\n",
       "  <thead>\n",
       "    <tr style=\"text-align: right;\">\n",
       "      <th></th>\n",
       "      <th>0</th>\n",
       "      <th>1</th>\n",
       "      <th>2</th>\n",
       "      <th>3</th>\n",
       "      <th>4</th>\n",
       "      <th>5</th>\n",
       "    </tr>\n",
       "  </thead>\n",
       "  <tbody>\n",
       "    <tr>\n",
       "      <th>0</th>\n",
       "      <td>98251</td>\n",
       "      <td>6505</td>\n",
       "      <td>204578</td>\n",
       "      <td>7985</td>\n",
       "      <td>129013</td>\n",
       "      <td>885772</td>\n",
       "    </tr>\n",
       "    <tr>\n",
       "      <th>1</th>\n",
       "      <td>118006</td>\n",
       "      <td>56867</td>\n",
       "      <td>571964</td>\n",
       "      <td>32875</td>\n",
       "      <td>142014</td>\n",
       "      <td>4710078</td>\n",
       "    </tr>\n",
       "    <tr>\n",
       "      <th>2</th>\n",
       "      <td>291998</td>\n",
       "      <td>35239</td>\n",
       "      <td>5977314</td>\n",
       "      <td>70883</td>\n",
       "      <td>805459</td>\n",
       "      <td>17615736</td>\n",
       "    </tr>\n",
       "    <tr>\n",
       "      <th>3</th>\n",
       "      <td>48092</td>\n",
       "      <td>10791</td>\n",
       "      <td>180995</td>\n",
       "      <td>202358</td>\n",
       "      <td>150171</td>\n",
       "      <td>2044434</td>\n",
       "    </tr>\n",
       "    <tr>\n",
       "      <th>4</th>\n",
       "      <td>435677</td>\n",
       "      <td>50654</td>\n",
       "      <td>2752529</td>\n",
       "      <td>388811</td>\n",
       "      <td>3726295</td>\n",
       "      <td>26293389</td>\n",
       "    </tr>\n",
       "  </tbody>\n",
       "</table>\n",
       "</div>"
      ],
      "text/plain": [
       "        0      1        2       3        4         5\n",
       "0   98251   6505   204578    7985   129013    885772\n",
       "1  118006  56867   571964   32875   142014   4710078\n",
       "2  291998  35239  5977314   70883   805459  17615736\n",
       "3   48092  10791   180995  202358   150171   2044434\n",
       "4  435677  50654  2752529  388811  3726295  26293389"
      ]
     },
     "execution_count": 4,
     "metadata": {},
     "output_type": "execute_result"
    }
   ],
   "source": [
    "pd.DataFrame(transfer_matrix).astype(int)"
   ]
  }
 ],
 "metadata": {
  "kernelspec": {
   "display_name": "torch",
   "language": "python",
   "name": "python3"
  },
  "language_info": {
   "codemirror_mode": {
    "name": "ipython",
    "version": 3
   },
   "file_extension": ".py",
   "mimetype": "text/x-python",
   "name": "python",
   "nbconvert_exporter": "python",
   "pygments_lexer": "ipython3",
   "version": "3.10.9"
  },
  "orig_nbformat": 4
 },
 "nbformat": 4,
 "nbformat_minor": 2
}
