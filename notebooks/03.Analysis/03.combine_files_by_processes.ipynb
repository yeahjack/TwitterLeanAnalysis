{
 "cells": [
  {
   "cell_type": "code",
   "execution_count": 1,
   "metadata": {},
   "outputs": [],
   "source": [
    "import pandas as pd\n",
    "import pickle\n",
    "import os\n",
    "from tqdm import tqdm"
   ]
  },
  {
   "cell_type": "code",
   "execution_count": 2,
   "metadata": {},
   "outputs": [
    {
     "name": "stderr",
     "output_type": "stream",
     "text": [
      "100%|██████████| 128/128 [01:10<00:00,  1.82it/s]\n"
     ]
    }
   ],
   "source": [
    "dfs = []\n",
    "for i in tqdm(range(128)):\n",
    "    dfs.append(pd.read_parquet(f\"/home/yijiexu/Documents/AllsidesScraper/news-title-bias/data/TwitterData/Twitter_Contents_Splited_fastlangdetect/{i}.parquet\"))"
   ]
  },
  {
   "cell_type": "code",
   "execution_count": 3,
   "metadata": {},
   "outputs": [],
   "source": [
    "dfs = pd.concat(dfs)"
   ]
  },
  {
   "cell_type": "code",
   "execution_count": 4,
   "metadata": {},
   "outputs": [
    {
     "data": {
      "text/html": [
       "<div>\n",
       "<style scoped>\n",
       "    .dataframe tbody tr th:only-of-type {\n",
       "        vertical-align: middle;\n",
       "    }\n",
       "\n",
       "    .dataframe tbody tr th {\n",
       "        vertical-align: top;\n",
       "    }\n",
       "\n",
       "    .dataframe thead th {\n",
       "        text-align: right;\n",
       "    }\n",
       "</style>\n",
       "<table border=\"1\" class=\"dataframe\">\n",
       "  <thead>\n",
       "    <tr style=\"text-align: right;\">\n",
       "      <th></th>\n",
       "      <th>TweetContent</th>\n",
       "      <th>Language</th>\n",
       "    </tr>\n",
       "  </thead>\n",
       "  <tbody>\n",
       "    <tr>\n",
       "      <th>0</th>\n",
       "      <td>@nathaliejacoby1 Of course not. He was the best</td>\n",
       "      <td>en</td>\n",
       "    </tr>\n",
       "    <tr>\n",
       "      <th>1</th>\n",
       "      <td>@We_Like_Dogs Happy Birthday pretty girl</td>\n",
       "      <td>en</td>\n",
       "    </tr>\n",
       "    <tr>\n",
       "      <th>2</th>\n",
       "      <td>@RNCResearch @kayleighmcenany What a big lie t...</td>\n",
       "      <td>en</td>\n",
       "    </tr>\n",
       "    <tr>\n",
       "      <th>3</th>\n",
       "      <td>@robreiner Look who's talking!!! It's the Dems...</td>\n",
       "      <td>en</td>\n",
       "    </tr>\n",
       "    <tr>\n",
       "      <th>4</th>\n",
       "      <td>@robreiner Your political views are seriously ...</td>\n",
       "      <td>en</td>\n",
       "    </tr>\n",
       "    <tr>\n",
       "      <th>...</th>\n",
       "      <td>...</td>\n",
       "      <td>...</td>\n",
       "    </tr>\n",
       "    <tr>\n",
       "      <th>76718919</th>\n",
       "      <td>@dxvsxx One long day at a time. Rinse and repeat.</td>\n",
       "      <td>en</td>\n",
       "    </tr>\n",
       "    <tr>\n",
       "      <th>76718920</th>\n",
       "      <td>@SKillr666 @LibertyAnn11 @MaryLTrump Biden wou...</td>\n",
       "      <td>en</td>\n",
       "    </tr>\n",
       "    <tr>\n",
       "      <th>76718921</th>\n",
       "      <td>@GeorgeTakei That's just crazy...</td>\n",
       "      <td>en</td>\n",
       "    </tr>\n",
       "    <tr>\n",
       "      <th>76718922</th>\n",
       "      <td>@lick_ten_steins @DirtySexyWorld You have to b...</td>\n",
       "      <td>en</td>\n",
       "    </tr>\n",
       "    <tr>\n",
       "      <th>76718923</th>\n",
       "      <td>@EBHarrington @NavarreSteve The lack of respec...</td>\n",
       "      <td>en</td>\n",
       "    </tr>\n",
       "  </tbody>\n",
       "</table>\n",
       "<p>76718924 rows × 2 columns</p>\n",
       "</div>"
      ],
      "text/plain": [
       "                                               TweetContent Language\n",
       "0           @nathaliejacoby1 Of course not. He was the best       en\n",
       "1                  @We_Like_Dogs Happy Birthday pretty girl       en\n",
       "2         @RNCResearch @kayleighmcenany What a big lie t...       en\n",
       "3         @robreiner Look who's talking!!! It's the Dems...       en\n",
       "4         @robreiner Your political views are seriously ...       en\n",
       "...                                                     ...      ...\n",
       "76718919  @dxvsxx One long day at a time. Rinse and repeat.       en\n",
       "76718920  @SKillr666 @LibertyAnn11 @MaryLTrump Biden wou...       en\n",
       "76718921                  @GeorgeTakei That's just crazy...       en\n",
       "76718922  @lick_ten_steins @DirtySexyWorld You have to b...       en\n",
       "76718923  @EBHarrington @NavarreSteve The lack of respec...       en\n",
       "\n",
       "[76718924 rows x 2 columns]"
      ]
     },
     "execution_count": 4,
     "metadata": {},
     "output_type": "execute_result"
    }
   ],
   "source": [
    "dfs"
   ]
  },
  {
   "cell_type": "code",
   "execution_count": 8,
   "metadata": {},
   "outputs": [
    {
     "data": {
      "text/plain": [
       "en       68044733\n",
       "nan       1430053\n",
       "fr        1018510\n",
       "de         857468\n",
       "id         415494\n",
       "nl         400590\n",
       "ru         384738\n",
       "es         340836\n",
       "af         340324\n",
       "it         298974\n",
       "no         284388\n",
       "ro         268231\n",
       "cy         240537\n",
       "da         226067\n",
       "tl         217093\n",
       "ca         207597\n",
       "so         199970\n",
       "sv         196912\n",
       "et         172568\n",
       "pt         171427\n",
       "fi         137252\n",
       "pl         132862\n",
       "sw         109098\n",
       "tr          87809\n",
       "sl          73080\n",
       "ar          57215\n",
       "vi          49311\n",
       "hr          46304\n",
       "lt          39854\n",
       "hu          38723\n",
       "sk          37851\n",
       "ja          34977\n",
       "sq          32715\n",
       "hi          23796\n",
       "cs          19803\n",
       "he          17780\n",
       "bg          17303\n",
       "lv          17232\n",
       "kn           8787\n",
       "uk           5860\n",
       "mk           3066\n",
       "zh-cn        2534\n",
       "fa           2472\n",
       "ur           2063\n",
       "ko           1529\n",
       "el           1105\n",
       "mr            960\n",
       "ne            427\n",
       "ta            234\n",
       "zh-tw         170\n",
       "th             93\n",
       "bn             66\n",
       "te             38\n",
       "gu             29\n",
       "ml              9\n",
       "pa              7\n",
       "Name: Language, dtype: int64"
      ]
     },
     "execution_count": 8,
     "metadata": {},
     "output_type": "execute_result"
    }
   ],
   "source": [
    "dfs['Language'].value_counts()"
   ]
  },
  {
   "cell_type": "code",
   "execution_count": 5,
   "metadata": {},
   "outputs": [
    {
     "data": {
      "text/plain": [
       "en     72386969\n",
       "fr       961094\n",
       "es       947534\n",
       "ru       483456\n",
       "de       465555\n",
       "         ...   \n",
       "mrj           2\n",
       "xmf           1\n",
       "co            1\n",
       "rue           1\n",
       "mai           1\n",
       "Name: Language, Length: 173, dtype: int64"
      ]
     },
     "execution_count": 5,
     "metadata": {},
     "output_type": "execute_result"
    }
   ],
   "source": [
    "dfs['Language'].value_counts()"
   ]
  },
  {
   "cell_type": "code",
   "execution_count": null,
   "metadata": {},
   "outputs": [],
   "source": [
    "dfs[dfs['Language'] == 'en'].to_parquet(\"/home/yijiexu/Documents/AllsidesScraper/news-title-bias/data/TwitterData/df_tweet_content_en.parquet\")"
   ]
  }
 ],
 "metadata": {
  "kernelspec": {
   "display_name": "torch",
   "language": "python",
   "name": "python3"
  },
  "language_info": {
   "codemirror_mode": {
    "name": "ipython",
    "version": 3
   },
   "file_extension": ".py",
   "mimetype": "text/x-python",
   "name": "python",
   "nbconvert_exporter": "python",
   "pygments_lexer": "ipython3",
   "version": "3.10.8"
  },
  "orig_nbformat": 4,
  "vscode": {
   "interpreter": {
    "hash": "9a6617bc4d31fbf939b961980527353c3bee4d017eb536a18d0f87f30ff59d12"
   }
  }
 },
 "nbformat": 4,
 "nbformat_minor": 2
}
