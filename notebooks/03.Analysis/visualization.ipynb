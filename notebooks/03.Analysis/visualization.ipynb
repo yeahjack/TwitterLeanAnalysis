{
 "cells": [
  {
   "cell_type": "code",
   "execution_count": 1,
   "metadata": {},
   "outputs": [
    {
     "name": "stderr",
     "output_type": "stream",
     "text": [
      "2023-03-11 12:59:23.653984: I tensorflow/core/platform/cpu_feature_guard.cc:193] This TensorFlow binary is optimized with oneAPI Deep Neural Network Library (oneDNN) to use the following CPU instructions in performance-critical operations:  SSE4.1 SSE4.2 AVX AVX2 FMA\n",
      "To enable them in other operations, rebuild TensorFlow with the appropriate compiler flags.\n"
     ]
    }
   ],
   "source": [
    "from simpletransformers.classification import ClassificationModel, ClassificationArgs\n",
    "import pandas as pd\n",
    "import pyarrow.parquet as pq\n",
    "import pyarrow as pa\n",
    "from tqdm import tqdm\n",
    "import os\n",
    "from pprint import pprint"
   ]
  },
  {
   "cell_type": "code",
   "execution_count": 3,
   "metadata": {},
   "outputs": [],
   "source": [
    "# Load Parquet\n",
    "df_6label = pq.read_table('/home/data/xuyijie/Documents/AllsidesScraper/news-title-bias/data/TwitterData/df_tweet_content_predictions_6kind.parquet').to_pandas()"
   ]
  },
  {
   "cell_type": "code",
   "execution_count": 4,
   "metadata": {},
   "outputs": [],
   "source": [
    "# Load df_tweet_content\n",
    "df_en= pq.read_table('/home/data/xuyijie/Documents/AllsidesScraper/news-title-bias/data/TwitterData/df_tweet_content.parquet').to_pandas()"
   ]
  },
  {
   "cell_type": "code",
   "execution_count": 2,
   "metadata": {},
   "outputs": [],
   "source": [
    "import pickle\n",
    "with open('../../data/TwitterData/tweets_preprocessed.pkl', 'rb') as f:\n",
    "    tweets_preprocessed = pickle.load(f)"
   ]
  },
  {
   "cell_type": "code",
   "execution_count": 2,
   "metadata": {},
   "outputs": [],
   "source": [
    "# Load Parquet\n",
    "df_6label = pq.read_table('/home/data/xuyijie/Documents/AllsidesScraper/news-title-bias/data/TwitterData/dataset_all_info_masked.parquet').to_pandas()"
   ]
  },
  {
   "cell_type": "code",
   "execution_count": 6,
   "metadata": {},
   "outputs": [
    {
     "data": {
      "text/html": [
       "<div>\n",
       "<style scoped>\n",
       "    .dataframe tbody tr th:only-of-type {\n",
       "        vertical-align: middle;\n",
       "    }\n",
       "\n",
       "    .dataframe tbody tr th {\n",
       "        vertical-align: top;\n",
       "    }\n",
       "\n",
       "    .dataframe thead th {\n",
       "        text-align: right;\n",
       "    }\n",
       "</style>\n",
       "<table border=\"1\" class=\"dataframe\">\n",
       "  <thead>\n",
       "    <tr style=\"text-align: right;\">\n",
       "      <th></th>\n",
       "      <th>TweetContent</th>\n",
       "    </tr>\n",
       "  </thead>\n",
       "  <tbody>\n",
       "    <tr>\n",
       "      <th>0</th>\n",
       "      <td>@nathaliejacoby1 Of course not. He was the best</td>\n",
       "    </tr>\n",
       "    <tr>\n",
       "      <th>1</th>\n",
       "      <td>@We_Like_Dogs Happy Birthday pretty girl</td>\n",
       "    </tr>\n",
       "    <tr>\n",
       "      <th>2</th>\n",
       "      <td>@RNCResearch @kayleighmcenany What a big lie t...</td>\n",
       "    </tr>\n",
       "    <tr>\n",
       "      <th>3</th>\n",
       "      <td>@robreiner Look who's talking!!! It's the Dems...</td>\n",
       "    </tr>\n",
       "    <tr>\n",
       "      <th>4</th>\n",
       "      <td>@robreiner Your political views are seriously ...</td>\n",
       "    </tr>\n",
       "    <tr>\n",
       "      <th>...</th>\n",
       "      <td>...</td>\n",
       "    </tr>\n",
       "    <tr>\n",
       "      <th>76718919</th>\n",
       "      <td>@dxvsxx One long day at a time. Rinse and repeat.</td>\n",
       "    </tr>\n",
       "    <tr>\n",
       "      <th>76718920</th>\n",
       "      <td>@SKillr666 @LibertyAnn11 @MaryLTrump Biden wou...</td>\n",
       "    </tr>\n",
       "    <tr>\n",
       "      <th>76718921</th>\n",
       "      <td>@GeorgeTakei That's just crazy...</td>\n",
       "    </tr>\n",
       "    <tr>\n",
       "      <th>76718922</th>\n",
       "      <td>@lick_ten_steins @DirtySexyWorld You have to b...</td>\n",
       "    </tr>\n",
       "    <tr>\n",
       "      <th>76718923</th>\n",
       "      <td>@EBHarrington @NavarreSteve The lack of respec...</td>\n",
       "    </tr>\n",
       "  </tbody>\n",
       "</table>\n",
       "<p>76718924 rows × 1 columns</p>\n",
       "</div>"
      ],
      "text/plain": [
       "                                               TweetContent\n",
       "0           @nathaliejacoby1 Of course not. He was the best\n",
       "1                  @We_Like_Dogs Happy Birthday pretty girl\n",
       "2         @RNCResearch @kayleighmcenany What a big lie t...\n",
       "3         @robreiner Look who's talking!!! It's the Dems...\n",
       "4         @robreiner Your political views are seriously ...\n",
       "...                                                     ...\n",
       "76718919  @dxvsxx One long day at a time. Rinse and repeat.\n",
       "76718920  @SKillr666 @LibertyAnn11 @MaryLTrump Biden wou...\n",
       "76718921                  @GeorgeTakei That's just crazy...\n",
       "76718922  @lick_ten_steins @DirtySexyWorld You have to b...\n",
       "76718923  @EBHarrington @NavarreSteve The lack of respec...\n",
       "\n",
       "[76718924 rows x 1 columns]"
      ]
     },
     "execution_count": 6,
     "metadata": {},
     "output_type": "execute_result"
    }
   ],
   "source": [
    "df_en"
   ]
  },
  {
   "cell_type": "code",
   "execution_count": null,
   "metadata": {},
   "outputs": [],
   "source": []
  }
 ],
 "metadata": {
  "kernelspec": {
   "display_name": "torch",
   "language": "python",
   "name": "python3"
  },
  "language_info": {
   "codemirror_mode": {
    "name": "ipython",
    "version": 3
   },
   "file_extension": ".py",
   "mimetype": "text/x-python",
   "name": "python",
   "nbconvert_exporter": "python",
   "pygments_lexer": "ipython3",
   "version": "3.10.9"
  },
  "orig_nbformat": 4,
  "vscode": {
   "interpreter": {
    "hash": "ec1a579230a91ec1592f36fdc447583cb97a50a1e758ae83e4a7e94cfd0b10a7"
   }
  }
 },
 "nbformat": 4,
 "nbformat_minor": 2
}
