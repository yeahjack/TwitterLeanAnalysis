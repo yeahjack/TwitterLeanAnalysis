{
 "cells": [
  {
   "cell_type": "code",
   "execution_count": 1,
   "metadata": {},
   "outputs": [],
   "source": [
    "import pandas as pd"
   ]
  },
  {
   "cell_type": "code",
   "execution_count": 2,
   "metadata": {},
   "outputs": [],
   "source": [
    "df = pd.read_csv('../../data/dataset/dataset_combined.csv', header=None)"
   ]
  },
  {
   "cell_type": "code",
   "execution_count": 3,
   "metadata": {},
   "outputs": [
    {
     "data": {
      "text/plain": [
       "'Summary US announces new 185 bln military aid package for Kyiv  Zelenskiys first trip abroad since Russian invasion began  US Patriot air defence battery part of new assistance  Putin backs increasing size of Russian military by 30                WASHINGTONKYIV Dec 21 Reuters  President Volodymyr Zelenskiy told the US Congress on Wednesday that aid to Ukraine is an investment in democracy not charity and invoked American victory over the Nazis in a key World War Two battle to press for continued assistance  Zelenskiy on his first foreign wartime visit wore his trademark olive green pants and sweater and earlier met President Joe Biden who urged support to keep flowing in 2023 when congressional approval for Ukrainian aid will be harder  The United States has sent about 50 billion in assistance to Kyiv as Europes biggest land conflict since 1945 drags on killing tens of thousands driving millions from their homes and reducing cities to ruins On Wednesday it pledged to provide Patriot missiles  But some Republicans who will take control of the House of Representatives from Democrats on Jan 3 have expressed concerns about the price tag They could hold up billions of dollars in war aid starting next month  Your money is not charity It is an investment in the global security and democracy that we handle in the most responsible way Zelenskiy told a joint session of the US Senate and House of Representatives speaking in English  The world was too interconnected to allow any country to stand aside and feel safe he added  Zelenskiys speech was aimed at softening the concerns of Republicans when they take over Congress and keeping US public opinion on his side with reminders of the hardships his people face  Members of Congress stood cheered applauded and shook Zelenskiys hand as he entered the chamber with several wearing the colours of the Ukrainian flag blue and yellow  He received multiple standing ovations from an audience that also included members of the Ukrainian diaspora and religious figures  Referencing former US President Franklin D Roosevelt who served between 1933 and 1945 and efforts to liberate Europe from Nazi occupation Zelenskiy also appealed to Americans as they gathered with family for Christmas  Just like the brave American soldiers which held their lines and fought back Hitlers forces during the Christmas of 1944 brave Ukrainian soldiers are doing the same to Putins forces this Christmas he said  The Battle of the Bulge which began in December 1944 was Hitlers final major attempt to push back Allied forces Poor weather hampered initial US efforts to halt the offensive leading to fatalities and threatening to divide the allies who ultimately prevailed  PATRIOT MISSILES  Earlier Zelenskiy was greeted by Biden and first lady Jill Biden on the White House lawn and the two leaders appeared together at the Oval Office followed by a news conference  As we head into the New Year its important for the American people and for the world to hear directly from you Mr President about Ukraines fight and the need to continue to stand together through 2023 Biden said  121 US President Joe Biden and first lady Jill Biden welcome Ukraines President Volodymyr Zelenskiy on the South Lawn at the White House in Washington US December 21 2022 REUTERSLeah Millis 1 2 3 4 5  Zelenskiy said The United States will stand up for our shared values the values of freedom  US Secretary of State Antony Blinken also announced the United States would provide another 185 billion in military aid for Ukraine including the highly advanced Patriot air defence system to help it ward off barrages of Russian missiles  But some hardline Republicans have urged an end to the aid for Ukraine instead calling for an audit to trace how the money previously allocated has been spent  The Patriot missile is deemed to be one of the most advanced US air defence systems offering protection against attacking aircraft as well as cruise and ballistic missiles  Zelenskiy has repeatedly called on the West to supply more advanced weaponry ranging from modern battle tanks to missile defence systems but Western allies have been cautious keen to minimise any risk of provoking wider conflict with Russia  Zelenskiy earlier met Democratic and Republican leaders in the Senate and House of Representatives  BATTLES RAGE ON  Some in Moscow expected the invasion of Ukraine to achieve a rapid victory but it has instead passed its 300day milestone  Ukraine has come under repeated Russian attacks targeting its energy infrastructure leaving millions of people without electricity or running water in the dead of a freezing winter  Zelenskiy has made a point of staying close to his people with daring trips to battlefronts and addresses to the nation nightly countless calls with world leaders and videolink speeches to parliaments and international institutions  White House National Security Council spokesman John Kirby said Washington was seeing no sign that Russian President Vladimir Putin was willing to engage in peacemaking  The Kremlin said on Wednesday it saw no chance of peace talks with Kyiv In a call with reporters spokesman Dmitry Peskov said that continued Western arms supplies to Ukraine would lead to a deepening of the conflict  Russian forces launched three missile attacks and an air strike on targets in the Zaporizhzhia region and continued to push to advance near Bakhmut and Avdiivka the focal point of fighting in Donetsk region the General Staff of the Ukrainian Armed Forces said on Wednesday evening  Putin has said there were no financial limits on what the government would provide in terms of equipment and hardware but the army had to learn from and fix the problems it had experienced in Ukraine  He has backed a plan by his defence minister to boost the size of the armed forces by more than 30 to 15 million combat personnel  Russia says it is waging a special military operation in Ukraine to rid it of nationalists and protect Russianspeaking communities Ukraine and the West describe the Kremlins actions as an unprovoked war of aggression  Reporting by Reuters bureaus Writing by Costas Pitas Editing by Ross Colvin Cynthia Osterman and Himani Sarkar            Our Standards The Thomson Reuters Trust Principles'"
      ]
     },
     "execution_count": 3,
     "metadata": {},
     "output_type": "execute_result"
    }
   ],
   "source": [
    "df.at[0,0]"
   ]
  },
  {
   "cell_type": "code",
   "execution_count": 4,
   "metadata": {},
   "outputs": [
    {
     "data": {
      "text/html": [
       "<div>\n",
       "<style scoped>\n",
       "    .dataframe tbody tr th:only-of-type {\n",
       "        vertical-align: middle;\n",
       "    }\n",
       "\n",
       "    .dataframe tbody tr th {\n",
       "        vertical-align: top;\n",
       "    }\n",
       "\n",
       "    .dataframe thead th {\n",
       "        text-align: right;\n",
       "    }\n",
       "</style>\n",
       "<table border=\"1\" class=\"dataframe\">\n",
       "  <thead>\n",
       "    <tr style=\"text-align: right;\">\n",
       "      <th></th>\n",
       "      <th>0</th>\n",
       "      <th>1</th>\n",
       "    </tr>\n",
       "  </thead>\n",
       "  <tbody>\n",
       "    <tr>\n",
       "      <th>0</th>\n",
       "      <td>Summary US announces new 185 bln military aid ...</td>\n",
       "      <td>0</td>\n",
       "    </tr>\n",
       "    <tr>\n",
       "      <th>1</th>\n",
       "      <td>In an extraordinary facetoface meeting at the ...</td>\n",
       "      <td>-1</td>\n",
       "    </tr>\n",
       "    <tr>\n",
       "      <th>2</th>\n",
       "      <td>Ukrainian President Volodymyr Zelenskyy on Wed...</td>\n",
       "      <td>2</td>\n",
       "    </tr>\n",
       "    <tr>\n",
       "      <th>3</th>\n",
       "      <td>A patient is turned away from the emergency ro...</td>\n",
       "      <td>-1</td>\n",
       "    </tr>\n",
       "    <tr>\n",
       "      <th>4</th>\n",
       "      <td>Washington CNN   Two Americans who had been de...</td>\n",
       "      <td>-2</td>\n",
       "    </tr>\n",
       "    <tr>\n",
       "      <th>...</th>\n",
       "      <td>...</td>\n",
       "      <td>...</td>\n",
       "    </tr>\n",
       "    <tr>\n",
       "      <th>283565</th>\n",
       "      <td>mitchelmusso soo cool i wont but i9 cant</td>\n",
       "      <td>3</td>\n",
       "    </tr>\n",
       "    <tr>\n",
       "      <th>283566</th>\n",
       "      <td>Just got megans birthday gifts I think i did g...</td>\n",
       "      <td>3</td>\n",
       "    </tr>\n",
       "    <tr>\n",
       "      <th>283567</th>\n",
       "      <td>Avinio Good morning Avi and a great week to yo...</td>\n",
       "      <td>3</td>\n",
       "    </tr>\n",
       "    <tr>\n",
       "      <th>283568</th>\n",
       "      <td>DulceCandy87 httptwitpiccom7inth  you look so ...</td>\n",
       "      <td>3</td>\n",
       "    </tr>\n",
       "    <tr>\n",
       "      <th>283569</th>\n",
       "      <td>ingridmusic  It says the videos private</td>\n",
       "      <td>3</td>\n",
       "    </tr>\n",
       "  </tbody>\n",
       "</table>\n",
       "<p>283570 rows × 2 columns</p>\n",
       "</div>"
      ],
      "text/plain": [
       "                                                        0  1\n",
       "0       Summary US announces new 185 bln military aid ...  0\n",
       "1       In an extraordinary facetoface meeting at the ... -1\n",
       "2       Ukrainian President Volodymyr Zelenskyy on Wed...  2\n",
       "3       A patient is turned away from the emergency ro... -1\n",
       "4       Washington CNN   Two Americans who had been de... -2\n",
       "...                                                   ... ..\n",
       "283565          mitchelmusso soo cool i wont but i9 cant   3\n",
       "283566  Just got megans birthday gifts I think i did g...  3\n",
       "283567  Avinio Good morning Avi and a great week to yo...  3\n",
       "283568  DulceCandy87 httptwitpiccom7inth  you look so ...  3\n",
       "283569           ingridmusic  It says the videos private   3\n",
       "\n",
       "[283570 rows x 2 columns]"
      ]
     },
     "execution_count": 4,
     "metadata": {},
     "output_type": "execute_result"
    }
   ],
   "source": [
    "df"
   ]
  }
 ],
 "metadata": {
  "kernelspec": {
   "display_name": "Python 3",
   "language": "python",
   "name": "python3"
  },
  "language_info": {
   "codemirror_mode": {
    "name": "ipython",
    "version": 3
   },
   "file_extension": ".py",
   "mimetype": "text/x-python",
   "name": "python",
   "nbconvert_exporter": "python",
   "pygments_lexer": "ipython3",
   "version": "3.9.16"
  },
  "orig_nbformat": 4,
  "vscode": {
   "interpreter": {
    "hash": "dbcf7df56ebdf8ac1ad71b4fe8bba48f19c94223b7d7c3370abae66424133590"
   }
  }
 },
 "nbformat": 4,
 "nbformat_minor": 2
}
