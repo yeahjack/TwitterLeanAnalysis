{
 "cells": [
  {
   "cell_type": "code",
   "execution_count": 1,
   "metadata": {},
   "outputs": [],
   "source": [
    "import os"
   ]
  },
  {
   "cell_type": "code",
   "execution_count": 23,
   "metadata": {},
   "outputs": [],
   "source": [
    "def get_latest_checkpoint(model_dir):\n",
    "    # Split the path into components\n",
    "    path_components = model_dir.split('/')\n",
    "\n",
    "    # Join the components back together, except for the last part\n",
    "    model_dir = os.path.join(*(os.path.sep.join(path_components[:-1]), path_components[-1]))\n",
    "    if not os.path.exists(model_dir):\n",
    "        os.makedirs(model_dir)\n",
    "    model_files = [f for f in os.listdir(model_dir)]  # Check if the listed item is a file\n",
    "    model_files.sort(key=lambda x: int(x.split(\"_\")[-1].split(\".\")[0]))\n",
    "    return model_files[-1] if model_files else None"
   ]
  },
  {
   "cell_type": "code",
   "execution_count": 25,
   "metadata": {},
   "outputs": [],
   "source": [
    "def get_latest_checkpoint(model_dir):\n",
    "    if not os.path.exists(model_dir):\n",
    "        os.makedirs(model_dir)\n",
    "    model_files = [f for f in os.listdir(model_dir)]\n",
    "    model_files.sort(key=lambda x: int(x.split(\"_\")[-1].split(\".\")[0]))\n",
    "    return model_files[-1] if model_files else None"
   ]
  },
  {
   "cell_type": "code",
   "execution_count": 26,
   "metadata": {},
   "outputs": [
    {
     "name": "stdout",
     "output_type": "stream",
     "text": [
      "/hpc/users/CONNECT/yxu409/news-title-bias/notebooks/06.Multi-task_Learning/runs/output/model/mixed-precision/allenai/longformer-base-4096/epoch_72\n",
      "longformer-base-4096_epoch_5\n"
     ]
    }
   ],
   "source": [
    "MODEL_CHECKPOINT = \"allenai/longformer-base-4096\"\n",
    "BATCH_SIZE = 72\n",
    "HOME_DIR = \"/hpc/users/CONNECT/yxu409/news-title-bias/notebooks/06.Multi-task_Learning\"\n",
    "MODEL_DIR = os.path.join(\n",
    "        HOME_DIR, \"runs/output/model/mixed-precision/%s/epoch_%s\"%(MODEL_CHECKPOINT,BATCH_SIZE)\n",
    "    )\n",
    "print(MODEL_DIR)\n",
    "print(get_latest_checkpoint(MODEL_DIR))"
   ]
  },
  {
   "cell_type": "code",
   "execution_count": 18,
   "metadata": {},
   "outputs": [
    {
     "data": {
      "text/plain": [
       "['allenai']"
      ]
     },
     "execution_count": 18,
     "metadata": {},
     "output_type": "execute_result"
    }
   ],
   "source": [
    "[f for f in os.listdir(MODEL_DIR)]"
   ]
  },
  {
   "cell_type": "code",
   "execution_count": 17,
   "metadata": {},
   "outputs": [
    {
     "data": {
      "text/plain": [
       "'/hpc/users/CONNECT/yxu409/news-title-bias/notebooks/06.Multi-task_Learning/runs/output/model/mixed-precision/allenai/longformer-base-4096/epoch_72'"
      ]
     },
     "execution_count": 17,
     "metadata": {},
     "output_type": "execute_result"
    }
   ],
   "source": [
    "MODEL_DIR"
   ]
  },
  {
   "cell_type": "code",
   "execution_count": 20,
   "metadata": {},
   "outputs": [
    {
     "data": {
      "text/plain": [
       "['allenai']"
      ]
     },
     "execution_count": 20,
     "metadata": {},
     "output_type": "execute_result"
    }
   ],
   "source": [
    "os.listdir('/hpc/users/CONNECT/yxu409/news-title-bias/notebooks/06.Multi-task_Learning/runs/output/model/mixed-precision/allenai/longformer-base-4096/epoch_72')"
   ]
  }
 ],
 "metadata": {
  "kernelspec": {
   "display_name": "torch",
   "language": "python",
   "name": "python3"
  },
  "language_info": {
   "codemirror_mode": {
    "name": "ipython",
    "version": 3
   },
   "file_extension": ".py",
   "mimetype": "text/x-python",
   "name": "python",
   "nbconvert_exporter": "python",
   "pygments_lexer": "ipython3",
   "version": "3.9.7"
  },
  "orig_nbformat": 4
 },
 "nbformat": 4,
 "nbformat_minor": 2
}
